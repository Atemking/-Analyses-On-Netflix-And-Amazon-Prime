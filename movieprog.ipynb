version https://git-lfs.github.com/spec/v1
oid sha256:b37124f5c38b1b637f0086dc1d7e7e7731d74bc8b8e6fabfd323aba4c8abe73c
size 34476679
